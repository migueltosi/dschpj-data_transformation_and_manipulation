{
  "nbformat": 4,
  "nbformat_minor": 0,
  "metadata": {
    "colab": {
      "provenance": [],
      "authorship_tag": "ABX9TyP5jsN4FcnAYgFSGw9AuU1l"
    },
    "kernelspec": {
      "name": "python3",
      "display_name": "Python 3"
    },
    "language_info": {
      "name": "python"
    }
  },
  "cells": [
    {
      "cell_type": "markdown",
      "source": [
        "DsChPj: Data Science Challenge Project"
      ],
      "metadata": {
        "id": "fd5_pf42Hri3"
      }
    },
    {
      "cell_type": "code",
      "execution_count": null,
      "metadata": {
        "id": "Ub-DEuOWHgRX"
      },
      "outputs": [],
      "source": []
    }
  ]
}